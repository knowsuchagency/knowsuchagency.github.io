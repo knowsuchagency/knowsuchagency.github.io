{
 "cells": [
  {
   "cell_type": "markdown",
   "metadata": {},
   "source": [
    "## What's functional programming and why should I care?\n",
    "\n",
    "1. Understanding functional programming will make you a better programmer\n",
    "2. Dropping FP  jargon in conversations will make you seem smarter than you really are\n",
    "3. FP isn't trivial, and learning it will expand your mind\n",
    "\n",
    "There's been a lot written about functional programming, most of it in languages like Haskell or Scala.\n",
    "\n",
    "So let's do some Python.\n"
   ]
  },
  {
   "cell_type": "markdown",
   "metadata": {
    "pycharm": {
     "is_executing": false,
     "name": "#%% md\n"
    }
   },
   "source": [
    "## Semigroups\n",
    "\n",
    "[A semigroup is a nonempty set G with an associative binary operation.][1]\n",
    "\n",
    "Here's a secret. You probably already know what a semigroup is.\n",
    "\n",
    "You use them every time you add two numbers together or concatenate strings.\n",
    "\n",
    "Following the definition of a semigroup above, let `G` be the set of all numbers and `+` (addition) be our binary operation.\n",
    "\n",
    "Binary operation simply means a function that acts on two separate objects.\n",
    "\n",
    "Since we know addition over numbers to be associative i.e. `a + (b + c) = (a + b) + c`, this means the set of numbers under addition is a semigroup.\n",
    "\n",
    "Let's look at some concrete examples in python.\n",
    "\n",
    "[1]: https://faculty.etsu.edu/gardnerr/5410/notes/I-1.pdf"
   ]
  },
  {
   "cell_type": "code",
   "execution_count": 2,
   "metadata": {},
   "outputs": [],
   "source": [
    "import functools\n",
    "import operator\n",
    "\n",
    "# A semigroup is a nonempty set G...\n",
    "\n",
    "stuff = [2, 3, 4]\n",
    "\n",
    "# ...with an associative binary operation\n",
    "\n",
    "multiply = operator.mul\n",
    "\n",
    "# meaning we can compose those elements together\n",
    "# almost as if we fold them one on top of another\n",
    "# until we're left with a single thing\n",
    "\n",
    "# that's what we're doing when we call `reduce` in this example\n",
    "\n",
    "total = functools.reduce(multiply, stuff)\n",
    "\n",
    "assert total == 24\n",
    "\n",
    "letters = ['h', 'e', 'l', 'l', 'o']\n",
    "\n",
    "greeting = functools.reduce(operator.add, letters)\n",
    "\n",
    "assert greeting == 'hello'\n",
    "\n",
    "# more often, we use the built-in sum function to reduce\n",
    "# sets under addition\n",
    "\n",
    "numbers = [1, 2, 3]\n",
    "\n",
    "assert sum(numbers) == functools.reduce(operator.add, numbers)"
   ]
  },
  {
   "cell_type": "markdown",
   "metadata": {
    "collapsed": false,
    "pycharm": {
     "name": "#%% md\n"
    }
   },
   "source": [
    "## Monoids\n",
    "\n",
    "Definition I.1.1. For a multiplicative binary operation on G × G, we define the\n",
    "following properties:\n",
    "(i) Multiplication is associative if a(bc) = (ab)c for all a, b, c, ∈ G.\n",
    "(ii) Element e ∈ G is a two-sided identity if ae = ea = a for all a ∈ G.\n",
    "\n",
    "[A monoid is a semigroup with an identity.][1]\n",
    "\n",
    "[1]: https://faculty.etsu.edu/gardnerr/5410/notes/I-1.pdf\n",
    "\n",
    "Let's say we were part of an e-commerce site and we had a csv\n",
    "that contained per-customer order totals for a given month.\n",
    "\n",
    "We want to add up all the money each customer spent\n",
    "to figure out the total spent that month."
   ]
  },
  {
   "cell_type": "code",
   "execution_count": 3,
   "metadata": {},
   "outputs": [
    {
     "name": "stdout",
     "output_type": "stream",
     "text": "['54.71', '', '72.11']\n"
    }
   ],
   "source": [
    "import csv\n",
    "import io\n",
    "\n",
    "january_order_totals = \"\"\"\n",
    "customer,order_total\n",
    "sam,54.71\n",
    "john,\n",
    "andrea,72.11\n",
    "\"\"\".strip()\n",
    "\n",
    "reader = csv.DictReader(io.StringIO(january_order_totals))\n",
    "\n",
    "cash_spent_per_customer = [row[\"order_total\"] for row in reader]\n",
    "\n",
    "print(cash_spent_per_customer)"
   ]
  },
  {
   "cell_type": "markdown",
   "metadata": {
    "collapsed": false,
    "pycharm": {
     "name": "#%% md\n"
    }
   },
   "source": [
    "We have a minor problem in that we have an empty value -- john didn't spend\n",
    "any money in January.\n",
    "\n",
    "We solve this by replacing the empty value with an **identity**.\n",
    "\n",
    "By identity, we mean a value (a) that when combined with another value (b) will simply return the latter value (b).\n",
    "\n",
    "For example, for the set of numbers under addition, the identity is `0` because for any number `x`, `x + 0 = x`.\n",
    "\n",
    "The same is true for `1` for numbers under multiplication i.e. `x * 1 = x` for any number `x`.\n",
    "\n",
    "For the set of strings under the concatenation operation, the identity is simply an empty string.\n",
    "\n",
    "```python3\n",
    "string = \"hello, world\"\n",
    "\n",
    "identity = \"\"\n",
    "\n",
    "string + identity == string\n",
    "```"
   ]
  },
  {
   "cell_type": "code",
   "execution_count": 4,
   "metadata": {},
   "outputs": [
    {
     "name": "stdout",
     "output_type": "stream",
     "text": "The total spent in january was: 126.82\n"
    }
   ],
   "source": [
    "# cash_spent_per_customer is currently a collection of strings\n",
    "\n",
    "# this comprehension attempts to convert each string to a floating point number UNLESS it is an empty string, in which case it evaluates to 0, the identity for numbers under addition\n",
    "\n",
    "cash_spent_per_customer = [\n",
    "    float(s) if s else 0 for s in cash_spent_per_customer\n",
    "]\n",
    "\n",
    "total = sum(cash_spent_per_customer)\n",
    "\n",
    "print(f\"The total spent in january was: {total}\")"
   ]
  },
  {
   "cell_type": "markdown",
   "metadata": {
    "collapsed": false,
    "pycharm": {
     "name": "#%% md\n"
    }
   },
   "source": [
    "We solved our data validation error by creating a monoid.\n",
    "\n",
    "Cool.\n",
    "\n",
    "Now you know what semigroups and monoids are. \n",
    "\n",
    "Drop those terms at the next masquerade ball you attend and you will be the LIFE of the PARTY ;)\n",
    "\n",
    "Just make you're you're actually wearing your mask to hide your identity when you do."
   ]
  }
 ],
 "metadata": {
  "kernelspec": {
   "display_name": "Python 3",
   "language": "python",
   "name": "python3"
  },
  "language_info": {
   "codemirror_mode": {
    "name": "ipython",
    "version": 3
   },
   "file_extension": ".py",
   "mimetype": "text/x-python",
   "name": "python",
   "nbconvert_exporter": "python",
   "pygments_lexer": "ipython3",
   "version": "3.7.4-final"
  },
  "pycharm": {
   "stem_cell": {
    "cell_type": "raw",
    "source": [],
    "metadata": {
     "collapsed": false
    }
   }
  }
 },
 "nbformat": 4,
 "nbformat_minor": 4
}