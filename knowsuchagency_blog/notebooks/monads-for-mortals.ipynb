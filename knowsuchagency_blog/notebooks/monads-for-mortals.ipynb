{
 "cells": [
  {
   "cell_type": "markdown",
   "metadata": {},
   "source": [
    "# Monads for Mortals in Python\n",
    "\n",
    "a.k.a *YAMT* yet another monad tutorial\n",
    "\n",
    "## What's functional programming and why should I care?\n",
    "\n",
    "1. Understanding functional programming will make you a better programmer\n",
    "2. Dropping FP  jargon in conversations will make you seem smarter than you really are\n",
    "3. FP isn't trivial, and learning it will expand your mind\n",
    "\n",
    "I'm not going to waste a lot of time explaining why you should choose a functional style over imperative\n",
    "programming. I assume that if you're reading this, that you have decided for yourself already that there\n",
    "is value in these techniques.\n",
    "\n",
    "My goal is not to write a guide that is comprehensive or perfect. \n",
    "I'm not a mathematician; I'm a working stiff without a formal math background.\n",
    "\n",
    "Personally, I find myself attracted to these concepts because ~~I'm a masochist~~ I believe using them can help us write more correct, robust, testable code.\n",
    "\n",
    "## Who is this intended for and why?\n",
    "\n",
    "I've been writing software full-time for the better part of 10 years and almost everything I've done\n",
    "has been in Python. I've always found myself drawn to functional languages, patterns, and their underlying mathematical\n",
    "principles for a couple of reasons.\n",
    "\n",
    "One of those reasons is purely that I find the topic interesting and I find the idea of describing\n",
    "our programs purely in terms of data and transformations on that data to be elegant and compelling.\n",
    "\n",
    "The second reason is that writing software is really hard and we inevitably as programmers spend a lot of\n",
    "time fixing bugs. Functional programming can help us to completely avoid a huge range of potential\n",
    "bugs. Imagine that one day we can write programs such that if they compile, we're guaranteed that they'll\n",
    "work as we expect them to. We're not there yet, but modern functional programming languages and techniques can help us get close.\n",
    "\n",
    "As mentioned before, for my entire career as an engineer, my bread-and-butter has been Python. Most of the\n",
    "functional programming literature out there is in/for languages like Haskell or Scala, for good reason.\n",
    "\n",
    "My goal here is to try and take some of those concepts and show how they apply to the Python language, since\n",
    "there is a lot less written about FP in Python at the moment.\n",
    "\n",
    "To follow along, you should have an intermediate level of python. \n",
    "You should be comfortable with decorators, and have a basic understanding of OOP.\n",
    "In terms of math, so long as you understand sets and functions, you should be fine."
   ]
  },
  {
   "cell_type": "markdown",
   "metadata": {},
   "source": [
    "# Functional Programming"
   ]
  },
  {
   "cell_type": "markdown",
   "metadata": {
    "pycharm": {
     "is_executing": false,
     "name": "#%% md\n"
    }
   },
   "source": [
    "## Semigroups\n",
    "\n",
    "[A semigroup is a nonempty set G with an associative binary operation.][1]\n",
    "\n",
    "What?\n",
    "\n",
    "Let's look at some examples of semigroups.\n",
    "\n",
    "[1]: https://faculty.etsu.edu/gardnerr/5410/notes/I-1.pdf"
   ]
  },
  {
   "cell_type": "code",
   "execution_count": 16,
   "outputs": [],
   "source": [
    "import functools\n",
    "import operator\n",
    "\n",
    "# A semigroup is a nonempty set G...\n",
    "g = [2, 3, 4]\n",
    "\n",
    "# ...with an associative binary operation\n",
    "op = operator.mul\n",
    "\n",
    "# so what?\n",
    "\n",
    "# ... it means we can compose those elements together\n",
    "\n",
    "total = functools.reduce(op, g)\n",
    "assert total == 24\n",
    "\n",
    "g = ['h', 'e', 'l', 'l', 'o']\n",
    "greeting = functools.reduce(operator.add, g)\n",
    "assert greeting == 'hello'\n",
    "\n",
    "# more often, we use the built-in sum function to reduce\n",
    "# sets under addition\n",
    "\n",
    "g = [1, 2, 3]\n",
    "assert functools.reduce(operator.add, g) == sum(g)"
   ],
   "metadata": {
    "collapsed": false,
    "pycharm": {
     "name": "#%%\n",
     "is_executing": false
    }
   }
  },
  {
   "cell_type": "markdown",
   "source": [
    "## Monoids\n",
    "\n",
    "Definition I.1.1. For a multiplicative binary operation on G × G, we define the\n",
    "following properties:\n",
    "(i) Multiplication is associative if a(bc) = (ab)c for all a, b, c, ∈ G.\n",
    "(ii) Element e ∈ G is a two-sided identity if ae = ea = a for all a ∈ G.\n",
    "\n",
    "[A monoid is a semigroup with an identity.][1]\n",
    "\n",
    "[1]: https://faculty.etsu.edu/gardnerr/5410/notes/I-1.pdf\n",
    "\n",
    "Let's say we were part of an e-commerce site and we had a csv\n",
    "that contained per-customer order totals for a given month.\n",
    "\n",
    "We want to add up all the money each customer spent\n",
    "to figure out the total spent that month."
   ],
   "metadata": {
    "collapsed": false,
    "pycharm": {
     "name": "#%% md\n"
    }
   }
  },
  {
   "cell_type": "code",
   "execution_count": 15,
   "outputs": [
    {
     "name": "stdout",
     "text": [
      "['54.71', '', '72.11']\n"
     ],
     "output_type": "stream"
    }
   ],
   "source": [
    "import csv\n",
    "import io\n",
    "\n",
    "january_order_totals = \"\"\"\n",
    "customer,order_total\n",
    "sam,54.71\n",
    "john,\n",
    "andrea,72.11\n",
    "\"\"\".strip()\n",
    "\n",
    "reader = csv.DictReader(io.StringIO(january_order_totals))\n",
    "\n",
    "cash_spent_per_customer = [row[\"order_total\"] for row in reader]\n",
    "\n",
    "print(cash_spent_per_customer)"
   ],
   "metadata": {
    "collapsed": false,
    "pycharm": {
     "name": "#%% \n",
     "is_executing": false
    }
   }
  },
  {
   "cell_type": "markdown",
   "source": [
    "We have a minor problem in that we have an empty value -- john didn't spend\n",
    "any money in January.\n",
    "\n",
    "We solve this by replacing the empty value with an identity."
   ],
   "metadata": {
    "collapsed": false,
    "pycharm": {
     "name": "#%% md\n"
    }
   }
  },
  {
   "cell_type": "code",
   "execution_count": 16,
   "outputs": [
    {
     "name": "stdout",
     "text": [
      "The total spent in january was: 126.82\n"
     ],
     "output_type": "stream"
    }
   ],
   "source": [
    "cash_spent_per_customer = [\n",
    "    float(s) if s else 0 for s in cash_spent_per_customer\n",
    "]\n",
    "\n",
    "total = sum(cash_spent_per_customer)\n",
    "\n",
    "print(f\"The total spent in january was: {total}\")"
   ],
   "metadata": {
    "collapsed": false,
    "pycharm": {
     "name": "#%% \n",
     "is_executing": false
    }
   }
  },
  {
   "cell_type": "markdown",
   "source": [
    "We solved our data validation error by creating a monoid.\n",
    "\n",
    "Cool."
   ],
   "metadata": {
    "collapsed": false,
    "pycharm": {
     "name": "#%% md\n"
    }
   }
  }
 ],
 "metadata": {
  "kernelspec": {
   "display_name": "Python 3",
   "language": "python",
   "name": "python3"
  },
  "language_info": {
   "codemirror_mode": {
    "name": "ipython",
    "version": 3
   },
   "file_extension": ".py",
   "mimetype": "text/x-python",
   "name": "python",
   "nbconvert_exporter": "python",
   "pygments_lexer": "ipython3",
   "version": "3.7.5"
  },
  "pycharm": {
   "stem_cell": {
    "cell_type": "raw",
    "source": [],
    "metadata": {
     "collapsed": false
    }
   }
  }
 },
 "nbformat": 4,
 "nbformat_minor": 4
}