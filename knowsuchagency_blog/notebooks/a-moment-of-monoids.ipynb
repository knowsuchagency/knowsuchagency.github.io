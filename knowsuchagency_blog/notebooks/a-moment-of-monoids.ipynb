{
 "cells": [
  {
   "cell_type": "markdown",
   "metadata": {},
   "source": [
    "## What's functional programming and why should I care?\n",
    "\n",
    "1. Understanding functional programming will make you a better programmer\n",
    "2. Dropping FP  jargon in conversations will make you seem smarter than you really are\n",
    "3. FP isn't trivial, and learning it will expand your mind\n",
    "\n",
    "There's been a lot written about functional programming, most of it in languages like Haskell or Scala.\n",
    "\n",
    "So let's do some Python.\n"
   ]
  },
  {
   "cell_type": "markdown",
   "metadata": {
    "pycharm": {
     "is_executing": false,
     "name": "#%% md\n"
    }
   },
   "source": [
    "## Semigroups\n",
    "\n",
    "[A semigroup is a nonempty set G with an associative binary operation.][1]\n",
    "\n",
    "Here's a secret. You probably already know what a semigroup is.\n",
    "\n",
    "You use them every time you `sum(a_collection_of_numbers)`.\n",
    "\n",
    "Let's look at some examples.\n",
    "\n",
    "[1]: https://faculty.etsu.edu/gardnerr/5410/notes/I-1.pdf"
   ]
  },
  {
   "cell_type": "code",
   "execution_count": 2,
   "outputs": [],
   "source": [
    "import functools\n",
    "import operator\n",
    "\n",
    "# A semigroup is a nonempty set G...\n",
    "\n",
    "stuff = [2, 3, 4]\n",
    "\n",
    "# ...with an associative binary operation\n",
    "\n",
    "multiply = operator.mul\n",
    "\n",
    "# meaning we can compose those elements together\n",
    "# almost as if we fold them one on top of another\n",
    "# until we're left with a single thing\n",
    "\n",
    "# that what we're doing when we call `reduce` in this example\n",
    "\n",
    "total = functools.reduce(multiply, stuff)\n",
    "\n",
    "assert total == 24\n",
    "\n",
    "letters = ['h', 'e', 'l', 'l', 'o']\n",
    "\n",
    "greeting = functools.reduce(operator.add, letters)\n",
    "\n",
    "assert greeting == 'hello'\n",
    "\n",
    "# more often, we use the built-in sum function to reduce\n",
    "# sets under addition\n",
    "\n",
    "numbers = [1, 2, 3]\n",
    "\n",
    "assert sum(numbers) == functools.reduce(operator.add, numbers)"
   ],
   "metadata": {
    "collapsed": false,
    "pycharm": {
     "name": "#%%\n",
     "is_executing": false
    }
   }
  },
  {
   "cell_type": "markdown",
   "source": [
    "## Monoids\n",
    "\n",
    "Definition I.1.1. For a multiplicative binary operation on G × G, we define the\n",
    "following properties:\n",
    "(i) Multiplication is associative if a(bc) = (ab)c for all a, b, c, ∈ G.\n",
    "(ii) Element e ∈ G is a two-sided identity if ae = ea = a for all a ∈ G.\n",
    "\n",
    "[A monoid is a semigroup with an identity.][1]\n",
    "\n",
    "[1]: https://faculty.etsu.edu/gardnerr/5410/notes/I-1.pdf\n",
    "\n",
    "Let's say we were part of an e-commerce site and we had a csv\n",
    "that contained per-customer order totals for a given month.\n",
    "\n",
    "We want to add up all the money each customer spent\n",
    "to figure out the total spent that month."
   ],
   "metadata": {
    "collapsed": false,
    "pycharm": {
     "name": "#%% md\n"
    }
   }
  },
  {
   "cell_type": "code",
   "execution_count": 15,
   "outputs": [
    {
     "name": "stdout",
     "text": [
      "['54.71', '', '72.11']\n"
     ],
     "output_type": "stream"
    }
   ],
   "source": [
    "import csv\n",
    "import io\n",
    "\n",
    "january_order_totals = \"\"\"\n",
    "customer,order_total\n",
    "sam,54.71\n",
    "john,\n",
    "andrea,72.11\n",
    "\"\"\".strip()\n",
    "\n",
    "reader = csv.DictReader(io.StringIO(january_order_totals))\n",
    "\n",
    "cash_spent_per_customer = [row[\"order_total\"] for row in reader]\n",
    "\n",
    "print(cash_spent_per_customer)"
   ],
   "metadata": {
    "collapsed": false,
    "pycharm": {
     "name": "#%% \n",
     "is_executing": false
    }
   }
  },
  {
   "cell_type": "markdown",
   "source": [
    "We have a minor problem in that we have an empty value -- john didn't spend\n",
    "any money in January.\n",
    "\n",
    "We solve this by replacing the empty value with an identity."
   ],
   "metadata": {
    "collapsed": false,
    "pycharm": {
     "name": "#%% md\n"
    }
   }
  },
  {
   "cell_type": "code",
   "execution_count": 16,
   "outputs": [
    {
     "name": "stdout",
     "text": [
      "The total spent in january was: 126.82\n"
     ],
     "output_type": "stream"
    }
   ],
   "source": [
    "cash_spent_per_customer = [\n",
    "    float(s) if s else 0 for s in cash_spent_per_customer\n",
    "]\n",
    "\n",
    "total = sum(cash_spent_per_customer)\n",
    "\n",
    "print(f\"The total spent in january was: {total}\")"
   ],
   "metadata": {
    "collapsed": false,
    "pycharm": {
     "name": "#%% \n",
     "is_executing": false
    }
   }
  },
  {
   "cell_type": "markdown",
   "source": [
    "We solved our data validation error by creating a monoid.\n",
    "\n",
    "Cool.\n",
    "\n",
    "Now you know what semigroups and monoids are. \n",
    "\n",
    "Drop those terms at the next masquerade ball you attend and you will be the LIFE of the PARTY ;)\n",
    "\n",
    "Just make you're you're actually wearing your mask to hide your identity when you do."
   ],
   "metadata": {
    "collapsed": false,
    "pycharm": {
     "name": "#%% md\n"
    }
   }
  }
 ],
 "metadata": {
  "kernelspec": {
   "display_name": "Python 3",
   "language": "python",
   "name": "python3"
  },
  "language_info": {
   "codemirror_mode": {
    "name": "ipython",
    "version": 3
   },
   "file_extension": ".py",
   "mimetype": "text/x-python",
   "name": "python",
   "nbconvert_exporter": "python",
   "pygments_lexer": "ipython3",
   "version": "3.7.5"
  },
  "pycharm": {
   "stem_cell": {
    "cell_type": "raw",
    "source": [],
    "metadata": {
     "collapsed": false
    }
   }
  }
 },
 "nbformat": 4,
 "nbformat_minor": 4
}